{
 "cells": [
  {
   "cell_type": "code",
   "execution_count": 29,
   "id": "033d3924-c2fa-4056-ad3b-019d8f67ee5a",
   "metadata": {},
   "outputs": [],
   "source": [
    "import networkx as nx\n",
    "import matplotlib.pyplot as plt\n",
    "import numpy as np"
   ]
  },
  {
   "cell_type": "code",
   "execution_count": 30,
   "id": "261e370f-3252-4f89-8b0f-7e459561b35d",
   "metadata": {},
   "outputs": [],
   "source": [
    "g = nx.DiGraph()"
   ]
  },
  {
   "cell_type": "code",
   "execution_count": 31,
   "id": "c2c9c1dc-bc1e-4b8e-bb5f-9217ed814b5a",
   "metadata": {},
   "outputs": [],
   "source": [
    "with open(\"data/higgs-social_network.edgelist\") as file:\n",
    "  for line in file:\n",
    "    v, u = line.strip('\\n').split(\" \")\n",
    "    g.add_edge(v, u)"
   ]
  },
  {
   "cell_type": "code",
   "execution_count": 32,
   "id": "54148664-cf37-4228-9114-e6f147992ee9",
   "metadata": {},
   "outputs": [],
   "source": [
    "connected_comp = list(nx.strongly_connected_components(g))"
   ]
  },
  {
   "cell_type": "code",
   "execution_count": 33,
   "id": "cc774e34-448c-4f33-9f00-0e3d922d719c",
   "metadata": {},
   "outputs": [],
   "source": [
    "maximum = 0\n",
    "maximum_element = {}\n",
    "for element in connected_comp:\n",
    "  if len(element) > maximum:\n",
    "    maximum = len(element)\n",
    "    maximum_element = element"
   ]
  },
  {
   "cell_type": "code",
   "execution_count": 21,
   "id": "48063cf7-cba0-4c77-ae64-4fc5b615574c",
   "metadata": {},
   "outputs": [],
   "source": [
    "with open(\"data/higgs-mention_network.edgelist\", \"r\") as file:\n",
    "  with open(\"data/higgs-mention_network_filtered.edgelist\", \"w\") as filtered_file:\n",
    "    for line in file:\n",
    "      items = line.split(\" \")\n",
    "      if items[0] in maximum_element and items[1] in maximum_element:\n",
    "          filtered_file.write(line)"
   ]
  },
  {
   "cell_type": "code",
   "execution_count": 22,
   "id": "d1afbf9d-b5e2-4a88-8de5-9187780cac94",
   "metadata": {},
   "outputs": [],
   "source": [
    "with open(\"data/higgs-reply_network.edgelist\", \"r\") as file:\n",
    "  with open(\"data/higgs-reply_network_filtered.edgelist\", \"w\") as filtered_file:\n",
    "    for line in file:\n",
    "      items = line.split(\" \")\n",
    "      if items[0] in maximum_element and items[1] in maximum_element:\n",
    "          filtered_file.write(line)"
   ]
  },
  {
   "cell_type": "code",
   "execution_count": 23,
   "id": "6df0b29c-2f90-47a5-981b-9abbadc1295d",
   "metadata": {},
   "outputs": [],
   "source": [
    "with open(\"data/higgs-retweet_network.edgelist\", \"r\") as file:\n",
    "  with open(\"data/higgs-retweet_network_filtered.edgelist\", \"w\") as filtered_file:\n",
    "    for line in file:\n",
    "      items = line.split(\" \")\n",
    "      if items[0] in maximum_element and items[1] in maximum_element:\n",
    "          filtered_file.write(line)"
   ]
  },
  {
   "cell_type": "code",
   "execution_count": 52,
   "id": "47df8fd1-f25c-41b0-a2ca-1092298d54da",
   "metadata": {},
   "outputs": [],
   "source": [
    "with open(\"data/higgs-social_network.edgelist\", \"r\") as file:\n",
    "  with open(\"data/higgs-social_network_filtered.edgelist\", \"w\") as filtered_file:\n",
    "    for line in file:\n",
    "      items = line.split(\" \")\n",
    "      items[1] = items[1][:-1]\n",
    "      if items[0] in maximum_element and items[1] in maximum_element:\n",
    "        filtered_file.write(line)"
   ]
  },
  {
   "cell_type": "code",
   "execution_count": 25,
   "id": "02b080be-8aaf-4838-84c7-d963f643ea39",
   "metadata": {},
   "outputs": [],
   "source": [
    "with open(\"data/higgs-activity_time.txt\", \"r\") as file:\n",
    "  with open(\"data/higgs-activity_time_filtered.txt\", \"w\") as filtered_file:\n",
    "    for line in file:\n",
    "      items = line.split(\" \")\n",
    "      if items[0] in maximum_element and items[1] in maximum_element:\n",
    "          filtered_file.write(line)"
   ]
  },
  {
   "cell_type": "code",
   "execution_count": 42,
   "id": "ab4807a1-6c71-47ba-a435-0b9b31158dfd",
   "metadata": {},
   "outputs": [
    {
     "name": "stdout",
     "output_type": "stream",
     "text": [
      "False\n"
     ]
    }
   ],
   "source": [
    "with open(\"data/higgs-social_network.edgelist\", \"r\") as file:\n",
    "    for line in file:\n",
    "      items = line.split(\" \")\n",
    "      print(items[1] in maximum_element)\n",
    "      break"
   ]
  },
  {
   "cell_type": "code",
   "execution_count": 44,
   "id": "c7b6f1e6-a3dc-44e0-baaa-09641b8f2f18",
   "metadata": {},
   "outputs": [
    {
     "data": {
      "text/plain": [
       "360210"
      ]
     },
     "execution_count": 44,
     "metadata": {},
     "output_type": "execute_result"
    }
   ],
   "source": [
    "len(maximum_element)"
   ]
  },
  {
   "cell_type": "code",
   "execution_count": 47,
   "id": "ce8f8cf6-1a57-4f17-9b10-0159b2ffd918",
   "metadata": {},
   "outputs": [
    {
     "data": {
      "text/plain": [
       "True"
      ]
     },
     "execution_count": 47,
     "metadata": {},
     "output_type": "execute_result"
    }
   ],
   "source": [
    "\"689\" in maximum_element"
   ]
  },
  {
   "cell_type": "code",
   "execution_count": 37,
   "id": "04f21969-c07f-4e28-9f9b-5ca0ec6fd67a",
   "metadata": {},
   "outputs": [],
   "source": [
    "with open(\"data/higgs-social_network_filtered.edgelist\") as file:\n",
    "  for line in file:\n",
    "    v, u = line.strip('\\n').split(\" \")\n",
    "    g.add_edge(v, u)"
   ]
  },
  {
   "cell_type": "code",
   "execution_count": 38,
   "id": "a46861b7-9978-414a-b081-0f5f0d5b1613",
   "metadata": {},
   "outputs": [],
   "source": [
    "n = len(g.nodes)\n",
    "e = len(g.edges)\n",
    "average_degree = e / n"
   ]
  },
  {
   "cell_type": "code",
   "execution_count": 39,
   "id": "ebbe1b1b-6c46-4241-acae-29236da8614d",
   "metadata": {},
   "outputs": [
    {
     "name": "stdout",
     "output_type": "stream",
     "text": [
      "Grado promedio 32.53393805871764\n"
     ]
    }
   ],
   "source": [
    "print(\"Grado promedio {}\".format(average_degree))"
   ]
  },
  {
   "cell_type": "code",
   "execution_count": 40,
   "id": "ffe3b56b-0d6e-49f4-ac8a-cff93ee9ec94",
   "metadata": {},
   "outputs": [],
   "source": [
    "degrees = nx.degree(g)\n",
    "degrees = dict(degrees)"
   ]
  },
  {
   "cell_type": "code",
   "execution_count": 41,
   "id": "39a5b8f5-354f-48ff-b765-c07bd21c32af",
   "metadata": {},
   "outputs": [
    {
     "data": {
      "image/png": "[encoded data removed]",
      "text/plain": [
       "<Figure size 1440x864 with 1 Axes>"
      ]
     },
     "metadata": {
      "needs_background": "light"
     },
     "output_type": "display_data"
    }
   ],
   "source": [
    "bins = np.arange(-0.5, 51000, 2500)\n",
    "\n",
    "plt.figure(figsize=(20,12))\n",
    "plt.hist(list(degrees.values()), bins=bins, log=True)\n",
    "plt.xlabel(\"Cantidad de seguidores\", size=20)\n",
    "plt.ylabel(\"Cantidad de usuarios (log)\", size=20)\n",
    "plt.xticks(range(0, 55000, 5000), fontsize=14)\n",
    "plt.yticks(fontsize=14)\n",
    "plt.title(\"Cantidad de usuarios que poseen cierta cantidad de seguidores\", fontsize=28)\n",
    "\n",
    "plt.show()"
   ]
  },
  {
   "cell_type": "code",
   "execution_count": null,
   "id": "30738eea-08b5-4724-8f93-86b27d3f05aa",
   "metadata": {},
   "outputs": [],
   "source": []
  }
 ],
 "metadata": {
  "kernelspec": {
   "display_name": "Python 3 (ipykernel)",
   "language": "python",
   "name": "python3"
  },
  "language_info": {
   "codemirror_mode": {
    "name": "ipython",
    "version": 3
   },
   "file_extension": ".py",
   "mimetype": "text/x-python",
   "name": "python",
   "nbconvert_exporter": "python",
   "pygments_lexer": "ipython3",
   "version": "3.10.0"
  }
 },
 "nbformat": 4,
 "nbformat_minor": 5
}
