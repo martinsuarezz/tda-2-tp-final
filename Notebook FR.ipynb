{
 "cells": [
  {
   "cell_type": "code",
   "execution_count": 42,
   "id": "033d3924-c2fa-4056-ad3b-019d8f67ee5a",
   "metadata": {},
   "outputs": [],
   "source": [
    "import networkx as nx\n",
    "import matplotlib.pyplot as plt\n",
    "import numpy as np"
   ]
  },
  {
   "cell_type": "code",
   "execution_count": 2,
   "id": "261e370f-3252-4f89-8b0f-7e459561b35d",
   "metadata": {},
   "outputs": [],
   "source": [
    "g = nx.DiGraph()"
   ]
  },
  {
   "cell_type": "code",
   "execution_count": 3,
   "id": "04f21969-c07f-4e28-9f9b-5ca0ec6fd67a",
   "metadata": {},
   "outputs": [],
   "source": [
    "with open(\"data/higgs-social_network.edgelist\") as file:\n",
    "  for line in file:\n",
    "    v, u = line.strip('\\n').split(\" \")\n",
    "    g.add_edge(v, u)"
   ]
  },
  {
   "cell_type": "code",
   "execution_count": null,
   "id": "2e789ad6-4a91-4ea7-8f0a-4cc638a699f1",
   "metadata": {},
   "outputs": [],
   "source": []
  }
 ],
 "metadata": {
  "kernelspec": {
   "display_name": "Python 3 (ipykernel)",
   "language": "python",
   "name": "python3"
  },
  "language_info": {
   "codemirror_mode": {
    "name": "ipython",
    "version": 3
   },
   "file_extension": ".py",
   "mimetype": "text/x-python",
   "name": "python",
   "nbconvert_exporter": "python",
   "pygments_lexer": "ipython3",
   "version": "3.10.0"
  }
 },
 "nbformat": 4,
 "nbformat_minor": 5
}
