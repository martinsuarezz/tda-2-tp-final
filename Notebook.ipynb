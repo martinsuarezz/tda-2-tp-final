{
 "cells": [
  {
   "cell_type": "code",
   "execution_count": 2,
   "id": "033d3924-c2fa-4056-ad3b-019d8f67ee5a",
   "metadata": {},
   "outputs": [],
   "source": [
    "import networkx as nx"
   ]
  },
  {
   "cell_type": "code",
   "execution_count": 19,
   "id": "261e370f-3252-4f89-8b0f-7e459561b35d",
   "metadata": {},
   "outputs": [],
   "source": [
    "g = nx.DiGraph()"
   ]
  },
  {
   "cell_type": "code",
   "execution_count": 20,
   "id": "04f21969-c07f-4e28-9f9b-5ca0ec6fd67a",
   "metadata": {},
   "outputs": [],
   "source": [
    "with open(\"higgs-social_network.edgelist\") as file:\n",
    "  for line in file:\n",
    "    v, u = line.strip('\\n').split(\" \")\n",
    "    g.add_edge(v, u)"
   ]
  },
  {
   "cell_type": "code",
   "execution_count": 21,
   "id": "a46861b7-9978-414a-b081-0f5f0d5b1613",
   "metadata": {},
   "outputs": [
    {
     "data": {
      "text/plain": [
       "456626"
      ]
     },
     "execution_count": 21,
     "metadata": {},
     "output_type": "execute_result"
    }
   ],
   "source": [
    "len(g.nodes)"
   ]
  },
  {
   "cell_type": "code",
   "execution_count": 22,
   "id": "d7b7e86e-d972-4347-84dd-0c13649cd3e7",
   "metadata": {},
   "outputs": [
    {
     "data": {
      "text/plain": [
       "('99999', 79)"
      ]
     },
     "execution_count": 22,
     "metadata": {},
     "output_type": "execute_result"
    }
   ],
   "source": [
    "max(g.degree)"
   ]
  },
  {
   "cell_type": "code",
   "execution_count": 23,
   "id": "7b992187-bc11-4d11-9fe9-09d09ebd7208",
   "metadata": {},
   "outputs": [
    {
     "data": {
      "text/plain": [
       "65.06787611743528"
      ]
     },
     "execution_count": 23,
     "metadata": {},
     "output_type": "execute_result"
    }
   ],
   "source": [
    "sum(dict(g.degree).values()) / len(g.nodes)"
   ]
  },
  {
   "cell_type": "code",
   "execution_count": null,
   "id": "bbfdf66b-1d37-4b3c-bdfc-6d2b7d88417a",
   "metadata": {},
   "outputs": [],
   "source": []
  }
 ],
 "metadata": {
  "kernelspec": {
   "display_name": "Python 3 (ipykernel)",
   "language": "python",
   "name": "python3"
  },
  "language_info": {
   "codemirror_mode": {
    "name": "ipython",
    "version": 3
   },
   "file_extension": ".py",
   "mimetype": "text/x-python",
   "name": "python",
   "nbconvert_exporter": "python",
   "pygments_lexer": "ipython3",
   "version": "3.10.0"
  }
 },
 "nbformat": 4,
 "nbformat_minor": 5
}
